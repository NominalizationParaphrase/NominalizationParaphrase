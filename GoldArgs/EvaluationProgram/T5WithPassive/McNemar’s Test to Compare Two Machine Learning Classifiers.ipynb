{
 "cells": [
  {
   "cell_type": "code",
   "execution_count": 1,
   "metadata": {},
   "outputs": [
    {
     "name": "stdout",
     "output_type": "stream",
     "text": [
      "189\n",
      "160\n",
      "119\n",
      "70\n",
      "41\n",
      "139\n",
      "369\n",
      "statistic=41.000000, p-value=0.007585\n",
      "Different proportions of errors (reject H0)\n"
     ]
    }
   ],
   "source": [
    "import pandas as pd\n",
    "dfs=pd.read_excel(\"FinalDatasetGPTIgnoreMTop3BasedTextualEntailmentRemoveArticleMetric.xlsx\")\n",
    "dfs2=pd.read_excel(\"FinalDatasetDistilBertIgnoreMRemoveArticleMetric.xlsx\")\n",
    "print(len(dfs[dfs['FinalLabel']==True]))\n",
    "print(len(dfs2[dfs2['FinalLabel']==True]))\n",
    "YesYes=0\n",
    "for index,i in enumerate(dfs['FinalLabel']):\n",
    "    if dfs.loc[index,'FinalLabel']==True and dfs2.loc[index,'FinalLabel']==True:\n",
    "        YesYes=YesYes+1\n",
    "print(YesYes)\n",
    "YesNo=0\n",
    "for index,i in enumerate(dfs['FinalLabel']):\n",
    "    if dfs.loc[index,'FinalLabel']==True and dfs2.loc[index,'FinalLabel']==False:\n",
    "        YesNo=YesNo+1\n",
    "print(YesNo)\n",
    "NoYes=0\n",
    "for index,i in enumerate(dfs['FinalLabel']):\n",
    "    if dfs.loc[index,'FinalLabel']==False and dfs2.loc[index,'FinalLabel']==True:\n",
    "        NoYes=NoYes+1\n",
    "print(NoYes)\n",
    "NoNo=0\n",
    "for index,i in enumerate(dfs['FinalLabel']):\n",
    "    if dfs.loc[index,'FinalLabel']==False and dfs2.loc[index,'FinalLabel']==False:\n",
    "        NoNo=NoNo+1\n",
    "print(NoNo)\n",
    "print(YesYes+YesNo+NoYes+NoNo)\n",
    "from statsmodels.stats.contingency_tables import mcnemar\n",
    "# define contingency table\n",
    "table = [[YesYes, YesNo],\n",
    "\t\t [NoYes, NoNo]]\n",
    "# calculate mcnemar test\n",
    "result = mcnemar(table, exact=True)\n",
    "# summarize the finding\n",
    "print('statistic=%.6f, p-value=%.6f' % (result.statistic, result.pvalue))\n",
    "# interpret the p-value\n",
    "alpha = 0.05\n",
    "if result.pvalue > alpha:\n",
    "\tprint('Same proportions of errors (fail to reject H0)')\n",
    "else:\n",
    "\tprint('Different proportions of errors (reject H0)')"
   ]
  },
  {
   "cell_type": "code",
   "execution_count": null,
   "metadata": {},
   "outputs": [],
   "source": []
  }
 ],
 "metadata": {
  "kernelspec": {
   "display_name": "Python 3",
   "language": "python",
   "name": "python3"
  },
  "language_info": {
   "codemirror_mode": {
    "name": "ipython",
    "version": 3
   },
   "file_extension": ".py",
   "mimetype": "text/x-python",
   "name": "python",
   "nbconvert_exporter": "python",
   "pygments_lexer": "ipython3",
   "version": "3.7.6"
  }
 },
 "nbformat": 4,
 "nbformat_minor": 4
}
